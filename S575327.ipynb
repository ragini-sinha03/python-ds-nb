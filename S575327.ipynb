{
 "cells": [
  {
   "cell_type": "markdown",
   "id": "ae5bcec4",
   "metadata": {},
   "source": [
    "** Name: ** Ragini Sinha"
   ]
  },
  {
   "cell_type": "code",
   "execution_count": 3,
   "id": "df3a0954",
   "metadata": {},
   "outputs": [
    {
     "name": "stdout",
     "output_type": "stream",
     "text": [
      "*      *\n",
      "**    **\n",
      "***  ***\n",
      "********\n"
     ]
    }
   ],
   "source": [
    "rows = 4\n",
    "for i in range(1, rows + 1):\n",
    "    left_stars = '*' * i\n",
    "    spaces = ' ' * (2 * (rows - i))\n",
    "    right_stars = '*' * i\n",
    "    print(left_stars + spaces + right_stars)\n"
   ]
  }
 ],
 "metadata": {
  "kernelspec": {
   "display_name": "Python 3",
   "language": "python",
   "name": "python3"
  },
  "language_info": {
   "codemirror_mode": {
    "name": "ipython",
    "version": 3
   },
   "file_extension": ".py",
   "mimetype": "text/x-python",
   "name": "python",
   "nbconvert_exporter": "python",
   "pygments_lexer": "ipython3",
   "version": "3.12.6"
  }
 },
 "nbformat": 4,
 "nbformat_minor": 5
}
